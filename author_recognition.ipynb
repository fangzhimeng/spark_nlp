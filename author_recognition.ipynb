{
 "cells": [
  {
   "cell_type": "markdown",
   "metadata": {},
   "source": [
    "### Text processing for author recognition using Spark"
   ]
  },
  {
   "cell_type": "markdown",
   "metadata": {},
   "source": [
    "#### Import statements"
   ]
  },
  {
   "cell_type": "code",
   "execution_count": 94,
   "metadata": {
    "collapsed": false
   },
   "outputs": [],
   "source": [
    "from __future__ import unicode_literals\n",
    "import pyspark as ps    # import the spark suite\n",
    "import warnings         # display warning if spark context already exists\n",
    "import os\n",
    "import nltk\n",
    "from pyspark.ml.feature import Tokenizer"
   ]
  },
  {
   "cell_type": "markdown",
   "metadata": {},
   "source": [
    "#### Initialized Spark Context"
   ]
  },
  {
   "cell_type": "code",
   "execution_count": 2,
   "metadata": {
    "collapsed": false
   },
   "outputs": [
    {
     "name": "stdout",
     "output_type": "stream",
     "text": [
      "created SparkContext\n"
     ]
    }
   ],
   "source": [
    "try:\n",
    "    sc = ps.SparkContext('local[4]')                # create spark context to work locally on all available cpus\n",
    "    print 'created SparkContext'\n",
    "except ValueError:\n",
    "    warnings.warn('SparkContext already exists')    # issue a warning if context already exists"
   ]
  },
  {
   "cell_type": "markdown",
   "metadata": {},
   "source": [
    "#### Read all of the files in data dirctory"
   ]
  },
  {
   "cell_type": "code",
   "execution_count": 96,
   "metadata": {
    "collapsed": false
   },
   "outputs": [
    {
     "name": "stdout",
     "output_type": "stream",
     "text": [
      "{'PrideAndPrejudice_JaneAusten.txt': data/PrideAndPrejudice_JaneAusten.txt MapPartitionsRDD[45] at textFile at null:-1}\n",
      "{'PrideAndPrejudice_JaneAusten.txt': data/PrideAndPrejudice_JaneAusten.txt MapPartitionsRDD[45] at textFile at null:-1, 'RoughingIt_MarkTwain.txt': data/RoughingIt_MarkTwain.txt MapPartitionsRDD[47] at textFile at null:-1}\n",
      "{'GreatExpectations_CharlesDickens.txt': data/GreatExpectations_CharlesDickens.txt MapPartitionsRDD[49] at textFile at null:-1, 'PrideAndPrejudice_JaneAusten.txt': data/PrideAndPrejudice_JaneAusten.txt MapPartitionsRDD[45] at textFile at null:-1, 'RoughingIt_MarkTwain.txt': data/RoughingIt_MarkTwain.txt MapPartitionsRDD[47] at textFile at null:-1}\n",
      "{'GreatExpectations_CharlesDickens.txt': data/GreatExpectations_CharlesDickens.txt MapPartitionsRDD[49] at textFile at null:-1, 'Emma_JaneAusten.txt': data/Emma_JaneAusten.txt MapPartitionsRDD[51] at textFile at null:-1, 'PrideAndPrejudice_JaneAusten.txt': data/PrideAndPrejudice_JaneAusten.txt MapPartitionsRDD[45] at textFile at null:-1, 'RoughingIt_MarkTwain.txt': data/RoughingIt_MarkTwain.txt MapPartitionsRDD[47] at textFile at null:-1}\n",
      "{'TheAdventuresOfHuckleberryFinn_MarkTwain.txt': data/TheAdventuresOfHuckleberryFinn_MarkTwain.txt MapPartitionsRDD[53] at textFile at null:-1, 'GreatExpectations_CharlesDickens.txt': data/GreatExpectations_CharlesDickens.txt MapPartitionsRDD[49] at textFile at null:-1, 'Emma_JaneAusten.txt': data/Emma_JaneAusten.txt MapPartitionsRDD[51] at textFile at null:-1, 'PrideAndPrejudice_JaneAusten.txt': data/PrideAndPrejudice_JaneAusten.txt MapPartitionsRDD[45] at textFile at null:-1, 'RoughingIt_MarkTwain.txt': data/RoughingIt_MarkTwain.txt MapPartitionsRDD[47] at textFile at null:-1}\n",
      "{'MansfieldPark_JaneAusten.txt': data/MansfieldPark_JaneAusten.txt MapPartitionsRDD[55] at textFile at null:-1, 'PrideAndPrejudice_JaneAusten.txt': data/PrideAndPrejudice_JaneAusten.txt MapPartitionsRDD[45] at textFile at null:-1, 'TheAdventuresOfHuckleberryFinn_MarkTwain.txt': data/TheAdventuresOfHuckleberryFinn_MarkTwain.txt MapPartitionsRDD[53] at textFile at null:-1, 'GreatExpectations_CharlesDickens.txt': data/GreatExpectations_CharlesDickens.txt MapPartitionsRDD[49] at textFile at null:-1, 'Emma_JaneAusten.txt': data/Emma_JaneAusten.txt MapPartitionsRDD[51] at textFile at null:-1, 'RoughingIt_MarkTwain.txt': data/RoughingIt_MarkTwain.txt MapPartitionsRDD[47] at textFile at null:-1}\n",
      "{'MansfieldPark_JaneAusten.txt': data/MansfieldPark_JaneAusten.txt MapPartitionsRDD[55] at textFile at null:-1, 'PrideAndPrejudice_JaneAusten.txt': data/PrideAndPrejudice_JaneAusten.txt MapPartitionsRDD[45] at textFile at null:-1, 'TravelsInAlaska_JohnMuir.txt': data/TravelsInAlaska_JohnMuir.txt MapPartitionsRDD[57] at textFile at null:-1, 'TheAdventuresOfHuckleberryFinn_MarkTwain.txt': data/TheAdventuresOfHuckleberryFinn_MarkTwain.txt MapPartitionsRDD[53] at textFile at null:-1, 'GreatExpectations_CharlesDickens.txt': data/GreatExpectations_CharlesDickens.txt MapPartitionsRDD[49] at textFile at null:-1, 'Emma_JaneAusten.txt': data/Emma_JaneAusten.txt MapPartitionsRDD[51] at textFile at null:-1, 'RoughingIt_MarkTwain.txt': data/RoughingIt_MarkTwain.txt MapPartitionsRDD[47] at textFile at null:-1}\n",
      "{'MansfieldPark_JaneAusten.txt': data/MansfieldPark_JaneAusten.txt MapPartitionsRDD[55] at textFile at null:-1, 'ATaleOfTwoCities_CharlesDickens.txt': data/ATaleOfTwoCities_CharlesDickens.txt MapPartitionsRDD[59] at textFile at null:-1, 'PrideAndPrejudice_JaneAusten.txt': data/PrideAndPrejudice_JaneAusten.txt MapPartitionsRDD[45] at textFile at null:-1, 'TravelsInAlaska_JohnMuir.txt': data/TravelsInAlaska_JohnMuir.txt MapPartitionsRDD[57] at textFile at null:-1, 'TheAdventuresOfHuckleberryFinn_MarkTwain.txt': data/TheAdventuresOfHuckleberryFinn_MarkTwain.txt MapPartitionsRDD[53] at textFile at null:-1, 'GreatExpectations_CharlesDickens.txt': data/GreatExpectations_CharlesDickens.txt MapPartitionsRDD[49] at textFile at null:-1, 'Emma_JaneAusten.txt': data/Emma_JaneAusten.txt MapPartitionsRDD[51] at textFile at null:-1, 'RoughingIt_MarkTwain.txt': data/RoughingIt_MarkTwain.txt MapPartitionsRDD[47] at textFile at null:-1}\n",
      "{'MansfieldPark_JaneAusten.txt': data/MansfieldPark_JaneAusten.txt MapPartitionsRDD[55] at textFile at null:-1, 'ATaleOfTwoCities_CharlesDickens.txt': data/ATaleOfTwoCities_CharlesDickens.txt MapPartitionsRDD[59] at textFile at null:-1, 'AChristmasCarol_CharlesDickens.txt': data/AChristmasCarol_CharlesDickens.txt MapPartitionsRDD[61] at textFile at null:-1, 'PrideAndPrejudice_JaneAusten.txt': data/PrideAndPrejudice_JaneAusten.txt MapPartitionsRDD[45] at textFile at null:-1, 'TravelsInAlaska_JohnMuir.txt': data/TravelsInAlaska_JohnMuir.txt MapPartitionsRDD[57] at textFile at null:-1, 'TheAdventuresOfHuckleberryFinn_MarkTwain.txt': data/TheAdventuresOfHuckleberryFinn_MarkTwain.txt MapPartitionsRDD[53] at textFile at null:-1, 'GreatExpectations_CharlesDickens.txt': data/GreatExpectations_CharlesDickens.txt MapPartitionsRDD[49] at textFile at null:-1, 'Emma_JaneAusten.txt': data/Emma_JaneAusten.txt MapPartitionsRDD[51] at textFile at null:-1, 'RoughingIt_MarkTwain.txt': data/RoughingIt_MarkTwain.txt MapPartitionsRDD[47] at textFile at null:-1}\n",
      "{'MansfieldPark_JaneAusten.txt': data/MansfieldPark_JaneAusten.txt MapPartitionsRDD[55] at textFile at null:-1, 'ATaleOfTwoCities_CharlesDickens.txt': data/ATaleOfTwoCities_CharlesDickens.txt MapPartitionsRDD[59] at textFile at null:-1, 'AChristmasCarol_CharlesDickens.txt': data/AChristmasCarol_CharlesDickens.txt MapPartitionsRDD[61] at textFile at null:-1, 'OliverTwist_CharlesDickens.txt': data/OliverTwist_CharlesDickens.txt MapPartitionsRDD[63] at textFile at null:-1, 'PrideAndPrejudice_JaneAusten.txt': data/PrideAndPrejudice_JaneAusten.txt MapPartitionsRDD[45] at textFile at null:-1, 'TravelsInAlaska_JohnMuir.txt': data/TravelsInAlaska_JohnMuir.txt MapPartitionsRDD[57] at textFile at null:-1, 'TheAdventuresOfHuckleberryFinn_MarkTwain.txt': data/TheAdventuresOfHuckleberryFinn_MarkTwain.txt MapPartitionsRDD[53] at textFile at null:-1, 'GreatExpectations_CharlesDickens.txt': data/GreatExpectations_CharlesDickens.txt MapPartitionsRDD[49] at textFile at null:-1, 'Emma_JaneAusten.txt': data/Emma_JaneAusten.txt MapPartitionsRDD[51] at textFile at null:-1, 'RoughingIt_MarkTwain.txt': data/RoughingIt_MarkTwain.txt MapPartitionsRDD[47] at textFile at null:-1}\n",
      "{'MansfieldPark_JaneAusten.txt': data/MansfieldPark_JaneAusten.txt MapPartitionsRDD[55] at textFile at null:-1, 'ATaleOfTwoCities_CharlesDickens.txt': data/ATaleOfTwoCities_CharlesDickens.txt MapPartitionsRDD[59] at textFile at null:-1, 'SenseAndSensibility_JaneAusten.txt': data/SenseAndSensibility_JaneAusten.txt MapPartitionsRDD[65] at textFile at null:-1, 'AChristmasCarol_CharlesDickens.txt': data/AChristmasCarol_CharlesDickens.txt MapPartitionsRDD[61] at textFile at null:-1, 'OliverTwist_CharlesDickens.txt': data/OliverTwist_CharlesDickens.txt MapPartitionsRDD[63] at textFile at null:-1, 'PrideAndPrejudice_JaneAusten.txt': data/PrideAndPrejudice_JaneAusten.txt MapPartitionsRDD[45] at textFile at null:-1, 'TravelsInAlaska_JohnMuir.txt': data/TravelsInAlaska_JohnMuir.txt MapPartitionsRDD[57] at textFile at null:-1, 'TheAdventuresOfHuckleberryFinn_MarkTwain.txt': data/TheAdventuresOfHuckleberryFinn_MarkTwain.txt MapPartitionsRDD[53] at textFile at null:-1, 'GreatExpectations_CharlesDickens.txt': data/GreatExpectations_CharlesDickens.txt MapPartitionsRDD[49] at textFile at null:-1, 'Emma_JaneAusten.txt': data/Emma_JaneAusten.txt MapPartitionsRDD[51] at textFile at null:-1, 'RoughingIt_MarkTwain.txt': data/RoughingIt_MarkTwain.txt MapPartitionsRDD[47] at textFile at null:-1}\n",
      "{'MansfieldPark_JaneAusten.txt': data/MansfieldPark_JaneAusten.txt MapPartitionsRDD[55] at textFile at null:-1, 'ATaleOfTwoCities_CharlesDickens.txt': data/ATaleOfTwoCities_CharlesDickens.txt MapPartitionsRDD[59] at textFile at null:-1, 'Stickeen_JohnMuir.txt': data/Stickeen_JohnMuir.txt MapPartitionsRDD[67] at textFile at null:-1, 'SenseAndSensibility_JaneAusten.txt': data/SenseAndSensibility_JaneAusten.txt MapPartitionsRDD[65] at textFile at null:-1, 'AChristmasCarol_CharlesDickens.txt': data/AChristmasCarol_CharlesDickens.txt MapPartitionsRDD[61] at textFile at null:-1, 'OliverTwist_CharlesDickens.txt': data/OliverTwist_CharlesDickens.txt MapPartitionsRDD[63] at textFile at null:-1, 'PrideAndPrejudice_JaneAusten.txt': data/PrideAndPrejudice_JaneAusten.txt MapPartitionsRDD[45] at textFile at null:-1, 'TravelsInAlaska_JohnMuir.txt': data/TravelsInAlaska_JohnMuir.txt MapPartitionsRDD[57] at textFile at null:-1, 'TheAdventuresOfHuckleberryFinn_MarkTwain.txt': data/TheAdventuresOfHuckleberryFinn_MarkTwain.txt MapPartitionsRDD[53] at textFile at null:-1, 'GreatExpectations_CharlesDickens.txt': data/GreatExpectations_CharlesDickens.txt MapPartitionsRDD[49] at textFile at null:-1, 'Emma_JaneAusten.txt': data/Emma_JaneAusten.txt MapPartitionsRDD[51] at textFile at null:-1, 'RoughingIt_MarkTwain.txt': data/RoughingIt_MarkTwain.txt MapPartitionsRDD[47] at textFile at null:-1}\n",
      "{'MansfieldPark_JaneAusten.txt': data/MansfieldPark_JaneAusten.txt MapPartitionsRDD[55] at textFile at null:-1, 'ATaleOfTwoCities_CharlesDickens.txt': data/ATaleOfTwoCities_CharlesDickens.txt MapPartitionsRDD[59] at textFile at null:-1, 'Stickeen_JohnMuir.txt': data/Stickeen_JohnMuir.txt MapPartitionsRDD[67] at textFile at null:-1, 'SenseAndSensibility_JaneAusten.txt': data/SenseAndSensibility_JaneAusten.txt MapPartitionsRDD[65] at textFile at null:-1, 'AChristmasCarol_CharlesDickens.txt': data/AChristmasCarol_CharlesDickens.txt MapPartitionsRDD[61] at textFile at null:-1, 'OliverTwist_CharlesDickens.txt': data/OliverTwist_CharlesDickens.txt MapPartitionsRDD[63] at textFile at null:-1, 'PrideAndPrejudice_JaneAusten.txt': data/PrideAndPrejudice_JaneAusten.txt MapPartitionsRDD[45] at textFile at null:-1, 'TravelsInAlaska_JohnMuir.txt': data/TravelsInAlaska_JohnMuir.txt MapPartitionsRDD[57] at textFile at null:-1, 'TheAdventuresOfHuckleberryFinn_MarkTwain.txt': data/TheAdventuresOfHuckleberryFinn_MarkTwain.txt MapPartitionsRDD[53] at textFile at null:-1, 'GreatExpectations_CharlesDickens.txt': data/GreatExpectations_CharlesDickens.txt MapPartitionsRDD[49] at textFile at null:-1, 'Emma_JaneAusten.txt': data/Emma_JaneAusten.txt MapPartitionsRDD[51] at textFile at null:-1, 'RoughingIt_MarkTwain.txt': data/RoughingIt_MarkTwain.txt MapPartitionsRDD[47] at textFile at null:-1, 'TheInnocentsAbroad_MarkTwain.txt': data/TheInnocentsAbroad_MarkTwain.txt MapPartitionsRDD[69] at textFile at null:-1}\n",
      "{'MansfieldPark_JaneAusten.txt': data/MansfieldPark_JaneAusten.txt MapPartitionsRDD[55] at textFile at null:-1, 'ATaleOfTwoCities_CharlesDickens.txt': data/ATaleOfTwoCities_CharlesDickens.txt MapPartitionsRDD[59] at textFile at null:-1, 'Stickeen_JohnMuir.txt': data/Stickeen_JohnMuir.txt MapPartitionsRDD[67] at textFile at null:-1, 'SenseAndSensibility_JaneAusten.txt': data/SenseAndSensibility_JaneAusten.txt MapPartitionsRDD[65] at textFile at null:-1, 'AChristmasCarol_CharlesDickens.txt': data/AChristmasCarol_CharlesDickens.txt MapPartitionsRDD[61] at textFile at null:-1, 'OliverTwist_CharlesDickens.txt': data/OliverTwist_CharlesDickens.txt MapPartitionsRDD[63] at textFile at null:-1, 'PrideAndPrejudice_JaneAusten.txt': data/PrideAndPrejudice_JaneAusten.txt MapPartitionsRDD[45] at textFile at null:-1, 'TravelsInAlaska_JohnMuir.txt': data/TravelsInAlaska_JohnMuir.txt MapPartitionsRDD[57] at textFile at null:-1, 'TheAdventuresOfHuckleberryFinn_MarkTwain.txt': data/TheAdventuresOfHuckleberryFinn_MarkTwain.txt MapPartitionsRDD[53] at textFile at null:-1, 'GreatExpectations_CharlesDickens.txt': data/GreatExpectations_CharlesDickens.txt MapPartitionsRDD[49] at textFile at null:-1, 'Emma_JaneAusten.txt': data/Emma_JaneAusten.txt MapPartitionsRDD[51] at textFile at null:-1, 'RoughingIt_MarkTwain.txt': data/RoughingIt_MarkTwain.txt MapPartitionsRDD[47] at textFile at null:-1, 'TheInnocentsAbroad_MarkTwain.txt': data/TheInnocentsAbroad_MarkTwain.txt MapPartitionsRDD[69] at textFile at null:-1, 'Persuasion_JaneAusten.txt': data/Persuasion_JaneAusten.txt MapPartitionsRDD[71] at textFile at null:-1}\n",
      "{'MansfieldPark_JaneAusten.txt': data/MansfieldPark_JaneAusten.txt MapPartitionsRDD[55] at textFile at null:-1, 'ATaleOfTwoCities_CharlesDickens.txt': data/ATaleOfTwoCities_CharlesDickens.txt MapPartitionsRDD[59] at textFile at null:-1, 'TheStoryofMyBoyhoodAndYouth_JohnMuir.txt': data/TheStoryofMyBoyhoodAndYouth_JohnMuir.txt MapPartitionsRDD[73] at textFile at null:-1, 'Stickeen_JohnMuir.txt': data/Stickeen_JohnMuir.txt MapPartitionsRDD[67] at textFile at null:-1, 'SenseAndSensibility_JaneAusten.txt': data/SenseAndSensibility_JaneAusten.txt MapPartitionsRDD[65] at textFile at null:-1, 'AChristmasCarol_CharlesDickens.txt': data/AChristmasCarol_CharlesDickens.txt MapPartitionsRDD[61] at textFile at null:-1, 'OliverTwist_CharlesDickens.txt': data/OliverTwist_CharlesDickens.txt MapPartitionsRDD[63] at textFile at null:-1, 'PrideAndPrejudice_JaneAusten.txt': data/PrideAndPrejudice_JaneAusten.txt MapPartitionsRDD[45] at textFile at null:-1, 'TravelsInAlaska_JohnMuir.txt': data/TravelsInAlaska_JohnMuir.txt MapPartitionsRDD[57] at textFile at null:-1, 'TheAdventuresOfHuckleberryFinn_MarkTwain.txt': data/TheAdventuresOfHuckleberryFinn_MarkTwain.txt MapPartitionsRDD[53] at textFile at null:-1, 'GreatExpectations_CharlesDickens.txt': data/GreatExpectations_CharlesDickens.txt MapPartitionsRDD[49] at textFile at null:-1, 'Emma_JaneAusten.txt': data/Emma_JaneAusten.txt MapPartitionsRDD[51] at textFile at null:-1, 'RoughingIt_MarkTwain.txt': data/RoughingIt_MarkTwain.txt MapPartitionsRDD[47] at textFile at null:-1, 'TheInnocentsAbroad_MarkTwain.txt': data/TheInnocentsAbroad_MarkTwain.txt MapPartitionsRDD[69] at textFile at null:-1, 'Persuasion_JaneAusten.txt': data/Persuasion_JaneAusten.txt MapPartitionsRDD[71] at textFile at null:-1}\n",
      "{'MansfieldPark_JaneAusten.txt': data/MansfieldPark_JaneAusten.txt MapPartitionsRDD[55] at textFile at null:-1, 'ATaleOfTwoCities_CharlesDickens.txt': data/ATaleOfTwoCities_CharlesDickens.txt MapPartitionsRDD[59] at textFile at null:-1, 'TheStoryofMyBoyhoodAndYouth_JohnMuir.txt': data/TheStoryofMyBoyhoodAndYouth_JohnMuir.txt MapPartitionsRDD[73] at textFile at null:-1, 'Stickeen_JohnMuir.txt': data/Stickeen_JohnMuir.txt MapPartitionsRDD[67] at textFile at null:-1, 'SenseAndSensibility_JaneAusten.txt': data/SenseAndSensibility_JaneAusten.txt MapPartitionsRDD[65] at textFile at null:-1, 'AChristmasCarol_CharlesDickens.txt': data/AChristmasCarol_CharlesDickens.txt MapPartitionsRDD[61] at textFile at null:-1, 'DavidCopperfield_CharlesDickens.txt': data/DavidCopperfield_CharlesDickens.txt MapPartitionsRDD[75] at textFile at null:-1, 'OliverTwist_CharlesDickens.txt': data/OliverTwist_CharlesDickens.txt MapPartitionsRDD[63] at textFile at null:-1, 'PrideAndPrejudice_JaneAusten.txt': data/PrideAndPrejudice_JaneAusten.txt MapPartitionsRDD[45] at textFile at null:-1, 'TravelsInAlaska_JohnMuir.txt': data/TravelsInAlaska_JohnMuir.txt MapPartitionsRDD[57] at textFile at null:-1, 'TheAdventuresOfHuckleberryFinn_MarkTwain.txt': data/TheAdventuresOfHuckleberryFinn_MarkTwain.txt MapPartitionsRDD[53] at textFile at null:-1, 'GreatExpectations_CharlesDickens.txt': data/GreatExpectations_CharlesDickens.txt MapPartitionsRDD[49] at textFile at null:-1, 'Emma_JaneAusten.txt': data/Emma_JaneAusten.txt MapPartitionsRDD[51] at textFile at null:-1, 'RoughingIt_MarkTwain.txt': data/RoughingIt_MarkTwain.txt MapPartitionsRDD[47] at textFile at null:-1, 'TheInnocentsAbroad_MarkTwain.txt': data/TheInnocentsAbroad_MarkTwain.txt MapPartitionsRDD[69] at textFile at null:-1, 'Persuasion_JaneAusten.txt': data/Persuasion_JaneAusten.txt MapPartitionsRDD[71] at textFile at null:-1}\n",
      "{'MansfieldPark_JaneAusten.txt': data/MansfieldPark_JaneAusten.txt MapPartitionsRDD[55] at textFile at null:-1, 'ATaleOfTwoCities_CharlesDickens.txt': data/ATaleOfTwoCities_CharlesDickens.txt MapPartitionsRDD[59] at textFile at null:-1, 'TheStoryofMyBoyhoodAndYouth_JohnMuir.txt': data/TheStoryofMyBoyhoodAndYouth_JohnMuir.txt MapPartitionsRDD[73] at textFile at null:-1, 'AConnecticutYankeeInKingArthursCourt_MarkTwain.txt': data/AConnecticutYankeeInKingArthursCourt_MarkTwain.txt MapPartitionsRDD[77] at textFile at null:-1, 'Stickeen_JohnMuir.txt': data/Stickeen_JohnMuir.txt MapPartitionsRDD[67] at textFile at null:-1, 'SenseAndSensibility_JaneAusten.txt': data/SenseAndSensibility_JaneAusten.txt MapPartitionsRDD[65] at textFile at null:-1, 'AChristmasCarol_CharlesDickens.txt': data/AChristmasCarol_CharlesDickens.txt MapPartitionsRDD[61] at textFile at null:-1, 'DavidCopperfield_CharlesDickens.txt': data/DavidCopperfield_CharlesDickens.txt MapPartitionsRDD[75] at textFile at null:-1, 'OliverTwist_CharlesDickens.txt': data/OliverTwist_CharlesDickens.txt MapPartitionsRDD[63] at textFile at null:-1, 'PrideAndPrejudice_JaneAusten.txt': data/PrideAndPrejudice_JaneAusten.txt MapPartitionsRDD[45] at textFile at null:-1, 'TravelsInAlaska_JohnMuir.txt': data/TravelsInAlaska_JohnMuir.txt MapPartitionsRDD[57] at textFile at null:-1, 'TheAdventuresOfHuckleberryFinn_MarkTwain.txt': data/TheAdventuresOfHuckleberryFinn_MarkTwain.txt MapPartitionsRDD[53] at textFile at null:-1, 'GreatExpectations_CharlesDickens.txt': data/GreatExpectations_CharlesDickens.txt MapPartitionsRDD[49] at textFile at null:-1, 'Emma_JaneAusten.txt': data/Emma_JaneAusten.txt MapPartitionsRDD[51] at textFile at null:-1, 'RoughingIt_MarkTwain.txt': data/RoughingIt_MarkTwain.txt MapPartitionsRDD[47] at textFile at null:-1, 'TheInnocentsAbroad_MarkTwain.txt': data/TheInnocentsAbroad_MarkTwain.txt MapPartitionsRDD[69] at textFile at null:-1, 'Persuasion_JaneAusten.txt': data/Persuasion_JaneAusten.txt MapPartitionsRDD[71] at textFile at null:-1}\n",
      "{'MansfieldPark_JaneAusten.txt': data/MansfieldPark_JaneAusten.txt MapPartitionsRDD[55] at textFile at null:-1, 'ATaleOfTwoCities_CharlesDickens.txt': data/ATaleOfTwoCities_CharlesDickens.txt MapPartitionsRDD[59] at textFile at null:-1, 'TheStoryofMyBoyhoodAndYouth_JohnMuir.txt': data/TheStoryofMyBoyhoodAndYouth_JohnMuir.txt MapPartitionsRDD[73] at textFile at null:-1, 'AConnecticutYankeeInKingArthursCourt_MarkTwain.txt': data/AConnecticutYankeeInKingArthursCourt_MarkTwain.txt MapPartitionsRDD[77] at textFile at null:-1, 'Stickeen_JohnMuir.txt': data/Stickeen_JohnMuir.txt MapPartitionsRDD[67] at textFile at null:-1, 'SenseAndSensibility_JaneAusten.txt': data/SenseAndSensibility_JaneAusten.txt MapPartitionsRDD[65] at textFile at null:-1, 'AChristmasCarol_CharlesDickens.txt': data/AChristmasCarol_CharlesDickens.txt MapPartitionsRDD[61] at textFile at null:-1, 'DavidCopperfield_CharlesDickens.txt': data/DavidCopperfield_CharlesDickens.txt MapPartitionsRDD[75] at textFile at null:-1, 'OliverTwist_CharlesDickens.txt': data/OliverTwist_CharlesDickens.txt MapPartitionsRDD[63] at textFile at null:-1, 'PrideAndPrejudice_JaneAusten.txt': data/PrideAndPrejudice_JaneAusten.txt MapPartitionsRDD[45] at textFile at null:-1, 'TravelsInAlaska_JohnMuir.txt': data/TravelsInAlaska_JohnMuir.txt MapPartitionsRDD[57] at textFile at null:-1, 'TheTragedyofPuddnheadWilson_MarkTwain.txt': data/TheTragedyofPuddnheadWilson_MarkTwain.txt MapPartitionsRDD[79] at textFile at null:-1, 'TheAdventuresOfHuckleberryFinn_MarkTwain.txt': data/TheAdventuresOfHuckleberryFinn_MarkTwain.txt MapPartitionsRDD[53] at textFile at null:-1, 'GreatExpectations_CharlesDickens.txt': data/GreatExpectations_CharlesDickens.txt MapPartitionsRDD[49] at textFile at null:-1, 'Emma_JaneAusten.txt': data/Emma_JaneAusten.txt MapPartitionsRDD[51] at textFile at null:-1, 'RoughingIt_MarkTwain.txt': data/RoughingIt_MarkTwain.txt MapPartitionsRDD[47] at textFile at null:-1, 'TheInnocentsAbroad_MarkTwain.txt': data/TheInnocentsAbroad_MarkTwain.txt MapPartitionsRDD[69] at textFile at null:-1, 'Persuasion_JaneAusten.txt': data/Persuasion_JaneAusten.txt MapPartitionsRDD[71] at textFile at null:-1}\n",
      "{'MansfieldPark_JaneAusten.txt': data/MansfieldPark_JaneAusten.txt MapPartitionsRDD[55] at textFile at null:-1, 'ATaleOfTwoCities_CharlesDickens.txt': data/ATaleOfTwoCities_CharlesDickens.txt MapPartitionsRDD[59] at textFile at null:-1, 'TheStoryofMyBoyhoodAndYouth_JohnMuir.txt': data/TheStoryofMyBoyhoodAndYouth_JohnMuir.txt MapPartitionsRDD[73] at textFile at null:-1, 'AConnecticutYankeeInKingArthursCourt_MarkTwain.txt': data/AConnecticutYankeeInKingArthursCourt_MarkTwain.txt MapPartitionsRDD[77] at textFile at null:-1, 'TheYosemite_JohnMuir.txt': data/TheYosemite_JohnMuir.txt MapPartitionsRDD[81] at textFile at null:-1, 'Stickeen_JohnMuir.txt': data/Stickeen_JohnMuir.txt MapPartitionsRDD[67] at textFile at null:-1, 'SenseAndSensibility_JaneAusten.txt': data/SenseAndSensibility_JaneAusten.txt MapPartitionsRDD[65] at textFile at null:-1, 'AChristmasCarol_CharlesDickens.txt': data/AChristmasCarol_CharlesDickens.txt MapPartitionsRDD[61] at textFile at null:-1, 'DavidCopperfield_CharlesDickens.txt': data/DavidCopperfield_CharlesDickens.txt MapPartitionsRDD[75] at textFile at null:-1, 'OliverTwist_CharlesDickens.txt': data/OliverTwist_CharlesDickens.txt MapPartitionsRDD[63] at textFile at null:-1, 'PrideAndPrejudice_JaneAusten.txt': data/PrideAndPrejudice_JaneAusten.txt MapPartitionsRDD[45] at textFile at null:-1, 'TravelsInAlaska_JohnMuir.txt': data/TravelsInAlaska_JohnMuir.txt MapPartitionsRDD[57] at textFile at null:-1, 'TheTragedyofPuddnheadWilson_MarkTwain.txt': data/TheTragedyofPuddnheadWilson_MarkTwain.txt MapPartitionsRDD[79] at textFile at null:-1, 'TheAdventuresOfHuckleberryFinn_MarkTwain.txt': data/TheAdventuresOfHuckleberryFinn_MarkTwain.txt MapPartitionsRDD[53] at textFile at null:-1, 'GreatExpectations_CharlesDickens.txt': data/GreatExpectations_CharlesDickens.txt MapPartitionsRDD[49] at textFile at null:-1, 'Emma_JaneAusten.txt': data/Emma_JaneAusten.txt MapPartitionsRDD[51] at textFile at null:-1, 'RoughingIt_MarkTwain.txt': data/RoughingIt_MarkTwain.txt MapPartitionsRDD[47] at textFile at null:-1, 'TheInnocentsAbroad_MarkTwain.txt': data/TheInnocentsAbroad_MarkTwain.txt MapPartitionsRDD[69] at textFile at null:-1, 'Persuasion_JaneAusten.txt': data/Persuasion_JaneAusten.txt MapPartitionsRDD[71] at textFile at null:-1}\n",
      "{'MansfieldPark_JaneAusten.txt': data/MansfieldPark_JaneAusten.txt MapPartitionsRDD[55] at textFile at null:-1, 'ATaleOfTwoCities_CharlesDickens.txt': data/ATaleOfTwoCities_CharlesDickens.txt MapPartitionsRDD[59] at textFile at null:-1, 'MyFirstSummerInTheSierra_JohnMuir.txt': data/MyFirstSummerInTheSierra_JohnMuir.txt MapPartitionsRDD[83] at textFile at null:-1, 'TheStoryofMyBoyhoodAndYouth_JohnMuir.txt': data/TheStoryofMyBoyhoodAndYouth_JohnMuir.txt MapPartitionsRDD[73] at textFile at null:-1, 'AConnecticutYankeeInKingArthursCourt_MarkTwain.txt': data/AConnecticutYankeeInKingArthursCourt_MarkTwain.txt MapPartitionsRDD[77] at textFile at null:-1, 'TheYosemite_JohnMuir.txt': data/TheYosemite_JohnMuir.txt MapPartitionsRDD[81] at textFile at null:-1, 'Stickeen_JohnMuir.txt': data/Stickeen_JohnMuir.txt MapPartitionsRDD[67] at textFile at null:-1, 'SenseAndSensibility_JaneAusten.txt': data/SenseAndSensibility_JaneAusten.txt MapPartitionsRDD[65] at textFile at null:-1, 'AChristmasCarol_CharlesDickens.txt': data/AChristmasCarol_CharlesDickens.txt MapPartitionsRDD[61] at textFile at null:-1, 'DavidCopperfield_CharlesDickens.txt': data/DavidCopperfield_CharlesDickens.txt MapPartitionsRDD[75] at textFile at null:-1, 'OliverTwist_CharlesDickens.txt': data/OliverTwist_CharlesDickens.txt MapPartitionsRDD[63] at textFile at null:-1, 'PrideAndPrejudice_JaneAusten.txt': data/PrideAndPrejudice_JaneAusten.txt MapPartitionsRDD[45] at textFile at null:-1, 'TravelsInAlaska_JohnMuir.txt': data/TravelsInAlaska_JohnMuir.txt MapPartitionsRDD[57] at textFile at null:-1, 'TheTragedyofPuddnheadWilson_MarkTwain.txt': data/TheTragedyofPuddnheadWilson_MarkTwain.txt MapPartitionsRDD[79] at textFile at null:-1, 'TheAdventuresOfHuckleberryFinn_MarkTwain.txt': data/TheAdventuresOfHuckleberryFinn_MarkTwain.txt MapPartitionsRDD[53] at textFile at null:-1, 'GreatExpectations_CharlesDickens.txt': data/GreatExpectations_CharlesDickens.txt MapPartitionsRDD[49] at textFile at null:-1, 'Emma_JaneAusten.txt': data/Emma_JaneAusten.txt MapPartitionsRDD[51] at textFile at null:-1, 'RoughingIt_MarkTwain.txt': data/RoughingIt_MarkTwain.txt MapPartitionsRDD[47] at textFile at null:-1, 'TheInnocentsAbroad_MarkTwain.txt': data/TheInnocentsAbroad_MarkTwain.txt MapPartitionsRDD[69] at textFile at null:-1, 'Persuasion_JaneAusten.txt': data/Persuasion_JaneAusten.txt MapPartitionsRDD[71] at textFile at null:-1}\n"
     ]
    }
   ],
   "source": [
    "texts = {}\n",
    "for book in os.listdir('data'):\n",
    "    texts[str(book)] = sc.textFile('data/{}'.format(book))\n",
    "    print texts"
   ]
  },
  {
   "cell_type": "markdown",
   "metadata": {
    "collapsed": false
   },
   "source": [
    "http://spark.apache.org/examples.html"
   ]
  },
  {
   "cell_type": "code",
   "execution_count": null,
   "metadata": {
    "collapsed": false
   },
   "outputs": [],
   "source": [
    "      "
   ]
  },
  {
   "cell_type": "code",
   "execution_count": null,
   "metadata": {
    "collapsed": false
   },
   "outputs": [],
   "source": []
  },
  {
   "cell_type": "code",
   "execution_count": 83,
   "metadata": {
    "collapsed": false
   },
   "outputs": [],
   "source": []
  },
  {
   "cell_type": "code",
   "execution_count": null,
   "metadata": {
    "collapsed": false
   },
   "outputs": [],
   "source": []
  },
  {
   "cell_type": "code",
   "execution_count": null,
   "metadata": {
    "collapsed": false
   },
   "outputs": [],
   "source": []
  },
  {
   "cell_type": "code",
   "execution_count": null,
   "metadata": {
    "collapsed": false
   },
   "outputs": [],
   "source": []
  },
  {
   "cell_type": "code",
   "execution_count": null,
   "metadata": {
    "collapsed": false
   },
   "outputs": [],
   "source": []
  },
  {
   "cell_type": "code",
   "execution_count": null,
   "metadata": {
    "collapsed": true
   },
   "outputs": [],
   "source": []
  }
 ],
 "metadata": {
  "anaconda-cloud": {},
  "kernelspec": {
   "display_name": "Python [default]",
   "language": "python",
   "name": "python2"
  },
  "language_info": {
   "codemirror_mode": {
    "name": "ipython",
    "version": 2
   },
   "file_extension": ".py",
   "mimetype": "text/x-python",
   "name": "python",
   "nbconvert_exporter": "python",
   "pygments_lexer": "ipython2",
   "version": "2.7.12"
  }
 },
 "nbformat": 4,
 "nbformat_minor": 0
}
