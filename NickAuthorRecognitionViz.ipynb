{
 "cells": [
  {
   "cell_type": "markdown",
   "metadata": {},
   "source": [
    "### Text Processing for Author Recognition using Spark"
   ]
  },
  {
   "cell_type": "markdown",
   "metadata": {},
   "source": [
    "#### Import statements"
   ]
  },
  {
   "cell_type": "code",
   "execution_count": 47,
   "metadata": {
    "collapsed": true
   },
   "outputs": [],
   "source": [
    "import pyspark as ps    # import the spark suite\n",
    "import warnings         # display warning if spark context already exists\n",
    "import os\n",
    "from pyspark.sql.functions import udf\n",
    "from pyspark.sql.types import ArrayType, StringType, FloatType\n",
    "import string\n",
    "from nltk.corpus import stopwords\n",
    "from nltk.tokenize import word_tokenize\n",
    "import matplotlib.pyplot as plt\n",
    "% matplotlib inline\n",
    "import pandas as pd\n",
    "import numpy as np\n",
    "from pyspark.sql.functions import mean as sql_mean"
   ]
  },
  {
   "cell_type": "markdown",
   "metadata": {},
   "source": [
    "#### Initialized Spark Context"
   ]
  },
  {
   "cell_type": "code",
   "execution_count": 2,
   "metadata": {
    "collapsed": false
   },
   "outputs": [
    {
     "name": "stdout",
     "output_type": "stream",
     "text": [
      "created SparkContext\n"
     ]
    }
   ],
   "source": [
    "try:\n",
    "    sc = ps.SparkContext('local[4]') # create spark context to work locally on all available cpus\n",
    "    print('created SparkContext')\n",
    "except ValueError:\n",
    "    warnings.warn('SparkContext already exists')    # issue a warning if context already exists"
   ]
  },
  {
   "cell_type": "markdown",
   "metadata": {},
   "source": [
    "### Read data.json into Spark SQL context"
   ]
  },
  {
   "cell_type": "code",
   "execution_count": 3,
   "metadata": {
    "collapsed": false
   },
   "outputs": [
    {
     "name": "stdout",
     "output_type": "stream",
     "text": [
      "created SQLContext\n"
     ]
    }
   ],
   "source": [
    "spark = ps.SQLContext(sc)\n",
    "print('created SQLContext')"
   ]
  },
  {
   "cell_type": "code",
   "execution_count": 4,
   "metadata": {
    "collapsed": false
   },
   "outputs": [],
   "source": [
    "data_file = 'data/data.json'\n",
    "df = spark.read.json(data_file)"
   ]
  },
  {
   "cell_type": "markdown",
   "metadata": {
    "collapsed": true
   },
   "source": [
    "CONSIDER:\n",
    "\n",
    "for fun use RDD and map reduce to remove the double bars I put into the excerpts!"
   ]
  },
  {
   "cell_type": "code",
   "execution_count": 5,
   "metadata": {
    "collapsed": false
   },
   "outputs": [
    {
     "name": "stdout",
     "output_type": "stream",
     "text": [
      "root\n",
      " |-- author: string (nullable = true)\n",
      " |-- excerpt: string (nullable = true)\n",
      " |-- title: string (nullable = true)\n",
      "\n",
      "None\n",
      "9050\n",
      "+----------+--------------------+-----------------+\n",
      "|    author|             excerpt|            title|\n",
      "+----------+--------------------+-----------------+\n",
      "|JaneAusten|Chapter 1 || It i...|PrideAndPrejudice|\n",
      "|JaneAusten|“What is his name...|PrideAndPrejudice|\n",
      "|JaneAusten|“In such cases, a...|PrideAndPrejudice|\n",
      "+----------+--------------------+-----------------+\n",
      "only showing top 3 rows\n",
      "\n"
     ]
    }
   ],
   "source": [
    "print df.printSchema()\n",
    "print df.count()\n",
    "df.show(3)"
   ]
  },
  {
   "cell_type": "markdown",
   "metadata": {},
   "source": [
    "### Here we import some sql funtions and give our dataframe a SQL table name"
   ]
  },
  {
   "cell_type": "code",
   "execution_count": 6,
   "metadata": {
    "collapsed": false
   },
   "outputs": [],
   "source": [
    "from pyspark.sql.functions import length\n",
    "from pyspark.sql.functions import count\n",
    "\n",
    "df.createOrReplaceTempView(\"excerpts\")"
   ]
  },
  {
   "cell_type": "code",
   "execution_count": 7,
   "metadata": {
    "collapsed": false
   },
   "outputs": [
    {
     "name": "stdout",
     "output_type": "stream",
     "text": [
      "+--------+\n",
      "|count(1)|\n",
      "+--------+\n",
      "|    2284|\n",
      "+--------+\n",
      "\n"
     ]
    }
   ],
   "source": [
    "sqlDF = spark.sql(\"SELECT count(*) FROM excerpts WHERE author = 'MarkTwain'\")\n",
    "sqlDF.show()"
   ]
  },
  {
   "cell_type": "markdown",
   "metadata": {},
   "source": [
    "### Lambda functions are created to explore the the character count, word count, and average word length and then add them to the dataframe."
   ]
  },
  {
   "cell_type": "code",
   "execution_count": 8,
   "metadata": {
    "collapsed": true
   },
   "outputs": [],
   "source": [
    "def char_count(text):\n",
    "    return len(text)\n",
    "\n",
    "def word_count(text):\n",
    "    return len(text.split())\n",
    "\n",
    "def avg_word_length(text):\n",
    "    return sum([len(t) for t in text.split()]) / float(len(text.split()))\n",
    "\n",
    "def sentence_count(text):\n",
    "    return len(text.split('.'))\n",
    "\n",
    "def sentence_length(text):\n",
    "    return sum([len(t.split()) for t in text.split('.')]) / float(len(text.split('.'))) \n",
    "\n",
    "def tokenize_excerpt(text):\n",
    "    stops = set(stopwords.words('english'))  # get a set of english stop words\n",
    "    unpunctuated_text = text.translate(None, string.punctuation)  # remove punctuation\n",
    "    tokens = word_tokenize(unpunctuated_text)  # tokenize\n",
    "    cleaned_tokens = [t.lower() for t in tokens if t.lower() not in stops]  # remove stopwords, lowercase everything\n",
    "    return cleaned_tokens\n",
    "\n",
    "def avg_word_length2(tokens):\n",
    "    return sum([len(t) for t in tokens])\n",
    "#     return sum([len(t) for t in tokens]) / float(len(tokens))\n",
    "#     return sum([len(t) for t in text.split()]) / float(len(text.split()))"
   ]
  },
  {
   "cell_type": "code",
   "execution_count": 11,
   "metadata": {
    "collapsed": false
   },
   "outputs": [],
   "source": [
    "charcount_udf = udf(lambda x : char_count(x))\n",
    "wordcount_udf = udf(lambda x: word_count(x))\n",
    "avgwordlen_udf = udf(lambda x: avg_word_length(x))\n",
    "sentencecount_udf = udf(lambda x: sentence_count(x))\n",
    "sentencelength_udf = udf(lambda x: sentence_length(x))\n",
    "tokenize_udf = udf(lambda x: tokenize_excerpt(x))\n",
    "wordlen2_udf = udf(lambda x: avg_word_length2(x))\n",
    "\n",
    "df2 = df.withColumn(\"character_count\", charcount_udf(df.excerpt).cast(FloatType())) \\\n",
    "        .withColumn(\"word_count\", wordcount_udf(df.excerpt).cast(FloatType())) \\\n",
    "        .withColumn(\"avg_wordlen\", avgwordlen_udf(df.excerpt).cast(FloatType())) \\\n",
    "        .withColumn(\"sent_count\", sentencecount_udf(df.excerpt).cast(FloatType())) \\\n",
    "        .withColumn(\"sent_length\", sentencelength_udf(df.excerpt).cast(FloatType())) \\\n",
    "        .withColumn(\"tokenized\", tokenize_udf(df.excerpt))\n",
    "    \n",
    "df3 = df2.withColumn(\"w2\", wordlen2_udf(df2.excerpt).cast(FloatType()))"
   ]
  },
  {
   "cell_type": "code",
   "execution_count": 12,
   "metadata": {
    "collapsed": false
   },
   "outputs": [
    {
     "name": "stdout",
     "output_type": "stream",
     "text": [
      "+--------------+-----------------+------------------+------------------+------------------+\n",
      "|        author| avg(avg_wordlen)|   avg(word_count)|  avg(sent_length)|           avg(w2)|\n",
      "+--------------+-----------------+------------------+------------------+------------------+\n",
      "|     MarkTwain|4.453468537894314|283.86646234676004| 25.14267813893208|1549.5621716287214|\n",
      "|      JohnMuir|4.655685173381459|325.68848484848485|27.422324373071845|1839.7769696969697|\n",
      "|    JaneAusten|4.550830074074491|272.27123633305297| 22.02252339073547| 1511.313708999159|\n",
      "|CharlesDickens| 4.42506248737499| 246.0895312938535|21.195489508029016|1334.9643558798766|\n",
      "+--------------+-----------------+------------------+------------------+------------------+\n",
      "\n"
     ]
    }
   ],
   "source": [
    "df3.createOrReplaceTempView(\"excerpts\")\n",
    "# sqlDF = spark.sql(\"SELECT author, AVG(avg_wordlen), AVG(word_count), AVG(sent_length) FROM excerpts GROUP BY author\")\n",
    "sqlDF = spark.sql(\"SELECT author, AVG(avg_wordlen), AVG(word_count), AVG(sent_length), AVG(w2) FROM excerpts GROUP BY author\")\n",
    "sqlDF.show(20)"
   ]
  },
  {
   "cell_type": "code",
   "execution_count": 84,
   "metadata": {
    "collapsed": false
   },
   "outputs": [],
   "source": [
    "\n",
    "sqlDFTwain = spark.sql(\"SELECT character_count, word_count, sent_length FROM excerpts WHERE author = 'MarkTwain' AND sent_length <=100\")\n",
    "sqlDFMuir = spark.sql(\"SELECT character_count, word_count, sent_length FROM excerpts WHERE author = 'JohnMuir' AND sent_length <=100\")\n",
    "sqlDFAusten = spark.sql(\"SELECT character_count, word_count, sent_length FROM excerpts WHERE author = 'JaneAusten' AND sent_length <=100\")\n",
    "sqlDFDickens = spark.sql(\"SELECT character_count, word_count, sent_length FROM excerpts WHERE author = 'CharlesDickens' AND sent_length <=100\")\n"
   ]
  },
  {
   "cell_type": "code",
   "execution_count": 171,
   "metadata": {
    "collapsed": false
   },
   "outputs": [],
   "source": [
    "def make_plots(DFs, col, bins, title, colors, x_lim, x_lab, authors):\n",
    "    plt.subplots(4,4,sharex=True, sharey=True, figsize=(8,8))\n",
    "    plt.tight_layout()\n",
    "    plt.subplots_adjust(top=0.92)\n",
    "    plt.suptitle(title, fontsize=18)\n",
    "    for i, DF in enumerate(DFs):\n",
    "        make_hist(DF, col, bins, colors[i], x_lim, i, x_lab, authors[i])\n",
    "                \n",
    "def make_hist(DF, col, bins, color, x_lim, i, x_lab, author):\n",
    "    # Create pandas DF of bins and counts\n",
    "    test_histogram = DF.select(col).rdd.flatMap(lambda x: x).histogram(bins)\n",
    "    temp_df = pd.DataFrame(zip(list(test_histogram)[0],\n",
    "                                list(test_histogram)[1]),columns=['Bin','Frequency'])\n",
    "    plt.subplot(2,2,i+1)\n",
    "    weights = temp_df.Frequency/temp_df.Frequency.sum()\n",
    "    plt.hist(temp_df.Bin, 75, weights=weights, color=color, \n",
    "             alpha=0.2, label=author)\n",
    "    # Find mean sentence length\n",
    "    x_val = DF.select(sql_mean(col)).select('avg('+col+')').head()[0]\n",
    "    plt.axvline(x=x_val, color=color, label=\"Mean\")\n",
    "    plt.xlabel(x_lab)\n",
    "    plt.ylabel(\"Frequency\")\n",
    "    plt.xlim((0, x_lim))\n",
    "    plt.legend();"
   ]
  },
  {
   "cell_type": "code",
   "execution_count": 172,
   "metadata": {
    "collapsed": false
   },
   "outputs": [
    {
     "data": {
      "image/png": "[encoded data removed]",
      "text/plain": [
       "<matplotlib.figure.Figure at 0x7fab5fd61f50>"
      ]
     },
     "metadata": {},
     "output_type": "display_data"
    }
   ],
   "source": [
    "DFs = [sqlDFTwain, sqlDFMuir, sqlDFAusten, sqlDFDickens]\n",
    "authors = [\"Twain\", \"Muir\", \"Austen\", \"Dickens\"]\n",
    "colors = ['g', 'b', 'r', 'c']\n",
    "\n",
    "make_plots(DFs=DFs, col='sent_length', bins=75, title='Sentence Length by Author',\n",
    "           colors=colors, x_lim=60, x_lab=\"Words\", authors=authors)"
   ]
  },
  {
   "cell_type": "code",
   "execution_count": null,
   "metadata": {
    "collapsed": true
   },
   "outputs": [],
   "source": []
  }
 ],
 "metadata": {
  "anaconda-cloud": {},
  "kernelspec": {
   "display_name": "Python [default]",
   "language": "python",
   "name": "python2"
  },
  "language_info": {
   "codemirror_mode": {
    "name": "ipython",
    "version": 2
   },
   "file_extension": ".py",
   "mimetype": "text/x-python",
   "name": "python",
   "nbconvert_exporter": "python",
   "pygments_lexer": "ipython2",
   "version": "2.7.12"
  }
 },
 "nbformat": 4,
 "nbformat_minor": 0
}
