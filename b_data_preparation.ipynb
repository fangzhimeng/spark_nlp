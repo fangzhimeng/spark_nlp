{
 "cells": [
  {
   "cell_type": "code",
   "execution_count": 25,
   "metadata": {
    "collapsed": false
   },
   "outputs": [],
   "source": [
    "import pyspark as ps\n",
    "from pyspark.sql.functions import udf\n",
    "from pyspark.sql.types import ArrayType, NumericType, StringType, IntegerType\n",
    "from pyspark.ml import Pipeline\n",
    "from pyspark.ml.pipeline import Transformer\n",
    "from spacy.en import English\n",
    "from src.SpacyTransformer import SpacyTransformer\n",
    "from src.LabelTransformer import LabelTransformer\n",
    "from pyspark.ml.feature import Tokenizer, CountVectorizer, IDF\n",
    "from pyspark.ml.classification import NaiveBayes\n",
    "from pyspark.ml.evaluation import MulticlassClassificationEvaluator"
   ]
  },
  {
   "cell_type": "markdown",
   "metadata": {},
   "source": [
    "## Read data.json into Spark SQL context"
   ]
  },
  {
   "cell_type": "code",
   "execution_count": 2,
   "metadata": {
    "collapsed": true
   },
   "outputs": [],
   "source": [
    "data_file = 'data/data.json'\n",
    "df = spark.read.json(data_file)"
   ]
  },
  {
   "cell_type": "code",
   "execution_count": 3,
   "metadata": {
    "collapsed": false
   },
   "outputs": [
    {
     "name": "stdout",
     "output_type": "stream",
     "text": [
      "root\n",
      " |-- author: string (nullable = true)\n",
      " |-- excerpt: string (nullable = true)\n",
      " |-- title: string (nullable = true)\n",
      "\n",
      "None\n",
      "9050\n",
      "+----------+--------------------+-----------------+\n",
      "|    author|             excerpt|            title|\n",
      "+----------+--------------------+-----------------+\n",
      "|JaneAusten|Chapter 1 || It i...|PrideAndPrejudice|\n",
      "|JaneAusten|“What is his name...|PrideAndPrejudice|\n",
      "|JaneAusten|“In such cases, a...|PrideAndPrejudice|\n",
      "+----------+--------------------+-----------------+\n",
      "only showing top 3 rows\n",
      "\n"
     ]
    }
   ],
   "source": [
    "print(df.printSchema())\n",
    "print(df.count())\n",
    "df.show(3)"
   ]
  },
  {
   "cell_type": "code",
   "execution_count": 6,
   "metadata": {
    "collapsed": false
   },
   "outputs": [],
   "source": [
    "# Create debugging data\n",
    "df2 = df.sample(withReplacement=False, fraction=0.02)"
   ]
  },
  {
   "cell_type": "markdown",
   "metadata": {},
   "source": [
    "## Create pipeline and process data"
   ]
  },
  {
   "cell_type": "code",
   "execution_count": 7,
   "metadata": {
    "collapsed": false
   },
   "outputs": [],
   "source": [
    "# Set up transformers\n",
    "tokenizer = SpacyTransformer(inputCol='excerpt', outputCol='words')\n",
    "countvec = CountVectorizer(inputCol=tokenizer.getOutputCol(), outputCol='termfreq')\n",
    "idf = IDF(inputCol=countvec.getOutputCol(), outputCol='tfidf')"
   ]
  },
  {
   "cell_type": "code",
   "execution_count": 8,
   "metadata": {
    "collapsed": false
   },
   "outputs": [
    {
     "name": "stdout",
     "output_type": "stream",
     "text": [
      "+----------+--------------------+-----------------+--------------------+--------------------+--------------------+\n",
      "|    author|             excerpt|            title|               words|            termfreq|               tfidf|\n",
      "+----------+--------------------+-----------------+--------------------+--------------------+--------------------+\n",
      "|JaneAusten|He paused in hope...|PrideAndPrejudice|[He, paused, in, ...|(7583,[0,1,2,3,4,...|(7583,[0,1,2,3,4,...|\n",
      "|JaneAusten|Elizabeth, feelin...|PrideAndPrejudice|[Elizabeth, ,, fe...|(7583,[0,1,2,3,4,...|(7583,[0,1,2,3,4,...|\n",
      "|JaneAusten|Elizabeth took up...|PrideAndPrejudice|[Elizabeth, took,...|(7583,[0,1,2,3,4,...|(7583,[0,1,2,3,4,...|\n",
      "+----------+--------------------+-----------------+--------------------+--------------------+--------------------+\n",
      "only showing top 3 rows\n",
      "\n",
      "CPU times: user 44 ms, sys: 0 ns, total: 44 ms\n",
      "Wall time: 47.6 s\n"
     ]
    }
   ],
   "source": [
    "%%time\n",
    "# Build pipeline and run pipeline\n",
    "pipeline = Pipeline(stages=[tokenizer, countvec, idf])\n",
    "data = pipeline.fit(df2).transform(df2)\n",
    "data.show(3)"
   ]
  },
  {
   "cell_type": "code",
   "execution_count": 86,
   "metadata": {
    "collapsed": false
   },
   "outputs": [],
   "source": [
    "# labeler = LabelTransformer(inputCol='author', outputCol='label')\n",
    "# pipeline = Pipeline(stages=[labeler])"
   ]
  },
  {
   "cell_type": "code",
   "execution_count": 9,
   "metadata": {
    "collapsed": false
   },
   "outputs": [
    {
     "name": "stdout",
     "output_type": "stream",
     "text": [
      "+----------+--------------------+-----------------+--------------------+--------------------+--------------------+\n",
      "|    author|             excerpt|            title|               words|            termfreq|            features|\n",
      "+----------+--------------------+-----------------+--------------------+--------------------+--------------------+\n",
      "|JaneAusten|He paused in hope...|PrideAndPrejudice|[He, paused, in, ...|(7583,[0,1,2,3,4,...|(7583,[0,1,2,3,4,...|\n",
      "|JaneAusten|Elizabeth, feelin...|PrideAndPrejudice|[Elizabeth, ,, fe...|(7583,[0,1,2,3,4,...|(7583,[0,1,2,3,4,...|\n",
      "|JaneAusten|Elizabeth took up...|PrideAndPrejudice|[Elizabeth, took,...|(7583,[0,1,2,3,4,...|(7583,[0,1,2,3,4,...|\n",
      "+----------+--------------------+-----------------+--------------------+--------------------+--------------------+\n",
      "only showing top 3 rows\n",
      "\n"
     ]
    }
   ],
   "source": [
    "data = data.withColumnRenamed('tfidf', 'features')\n",
    "# data = data.withColumnRenamed('label', 'author')\n",
    "data.show(3)"
   ]
  },
  {
   "cell_type": "code",
   "execution_count": 30,
   "metadata": {
    "collapsed": false
   },
   "outputs": [],
   "source": [
    "def make_labels(s):\n",
    "    labels = {'JaneAusten': 0,\n",
    "              'CharlesDickens': 1,\n",
    "              'JohnMuir': 2,\n",
    "              'MarkTwain': 3}\n",
    "    return labels[s]"
   ]
  },
  {
   "cell_type": "code",
   "execution_count": 31,
   "metadata": {
    "collapsed": false
   },
   "outputs": [
    {
     "name": "stdout",
     "output_type": "stream",
     "text": [
      "+----------+--------------------+-----------------+--------------------+--------------------+--------------------+-----+\n",
      "|    author|             excerpt|            title|               words|            termfreq|            features|label|\n",
      "+----------+--------------------+-----------------+--------------------+--------------------+--------------------+-----+\n",
      "|JaneAusten|He paused in hope...|PrideAndPrejudice|[He, paused, in, ...|(7583,[0,1,2,3,4,...|(7583,[0,1,2,3,4,...|    0|\n",
      "|JaneAusten|Elizabeth, feelin...|PrideAndPrejudice|[Elizabeth, ,, fe...|(7583,[0,1,2,3,4,...|(7583,[0,1,2,3,4,...|    0|\n",
      "|JaneAusten|Elizabeth took up...|PrideAndPrejudice|[Elizabeth, took,...|(7583,[0,1,2,3,4,...|(7583,[0,1,2,3,4,...|    0|\n",
      "|JaneAusten|“Your examination...|PrideAndPrejudice|[“, Your, examina...|(7583,[0,1,2,3,4,...|(7583,[0,1,2,3,4,...|    0|\n",
      "|JaneAusten|It was a journey ...|PrideAndPrejudice|[It, was, a, jour...|(7583,[0,1,2,3,4,...|(7583,[0,1,2,3,4,...|    0|\n",
      "+----------+--------------------+-----------------+--------------------+--------------------+--------------------+-----+\n",
      "only showing top 5 rows\n",
      "\n"
     ]
    }
   ],
   "source": [
    "udf_make_labels = udf(make_labels, IntegerType())\n",
    "data = data.withColumn('label', udf_make_labels('author'))\n",
    "data.show(5)"
   ]
  },
  {
   "cell_type": "code",
   "execution_count": 32,
   "metadata": {
    "collapsed": false
   },
   "outputs": [
    {
     "name": "stdout",
     "output_type": "stream",
     "text": [
      "root\n",
      " |-- author: string (nullable = true)\n",
      " |-- excerpt: string (nullable = true)\n",
      " |-- title: string (nullable = true)\n",
      " |-- words: array (nullable = true)\n",
      " |    |-- element: string (containsNull = true)\n",
      " |-- termfreq: vector (nullable = true)\n",
      " |-- features: vector (nullable = true)\n",
      " |-- label: integer (nullable = true)\n",
      "\n",
      "None\n",
      "194\n"
     ]
    }
   ],
   "source": [
    "print(data.printSchema())\n",
    "print(data.count())"
   ]
  },
  {
   "cell_type": "markdown",
   "metadata": {
    "collapsed": false
   },
   "source": [
    "## Make train/test split"
   ]
  },
  {
   "cell_type": "code",
   "execution_count": 38,
   "metadata": {
    "collapsed": true
   },
   "outputs": [],
   "source": [
    "splits = data.randomSplit([0.75, 0.25])\n",
    "train = splits[0]\n",
    "test = splits[1]"
   ]
  },
  {
   "cell_type": "code",
   "execution_count": 39,
   "metadata": {
    "collapsed": false
   },
   "outputs": [],
   "source": [
    "nb = NaiveBayes(smoothing=1.0, modelType='multinomial')\n",
    "model = nb.fit(train)"
   ]
  },
  {
   "cell_type": "code",
   "execution_count": 40,
   "metadata": {
    "collapsed": false
   },
   "outputs": [
    {
     "name": "stdout",
     "output_type": "stream",
     "text": [
      "+--------------+--------------------+----------------+--------------------+--------------------+--------------------+-----+--------------------+--------------------+----------+\n",
      "|        author|             excerpt|           title|               words|            termfreq|            features|label|       rawPrediction|         probability|prediction|\n",
      "+--------------+--------------------+----------------+--------------------+--------------------+--------------------+-----+--------------------+--------------------+----------+\n",
      "|CharlesDickens|\"Humbug!\" said Sc...| AChristmasCarol|[\", Humbug, !, \",...|(7583,[0,1,2,3,4,...|(7583,[0,1,2,3,4,...|    1|[-3415.3845827307...|[8.10128717079561...|       1.0|\n",
      "|CharlesDickens|\"My dear!\" was Bo...| AChristmasCarol|[\", My, dear, !, ...|(7583,[0,1,2,3,4,...|(7583,[0,1,2,3,4,...|    1|[-5455.2786476798...|[6.80632576888663...|       1.0|\n",
      "|CharlesDickens|'I will do my end...|     OliverTwist|[', I, will, do, ...|(7583,[0,1,2,3,4,...|(7583,[0,1,2,3,4,...|    1|[-4146.2703219125...|[5.08261384808446...|       1.0|\n",
      "|CharlesDickens|A glimpse of the ...|DavidCopperfield|[A, glimpse, of, ...|(7583,[0,1,2,3,4,...|(7583,[0,1,2,3,4,...|    1|[-2951.6430689133...|[7.66297899652811...|       2.0|\n",
      "|CharlesDickens|Afterwards, when ...|DavidCopperfield|[Afterwards, ,, w...|(7583,[0,1,2,3,4,...|(7583,[0,1,2,3,4,...|    1|[-2791.9989894692...|[4.29478357523496...|       1.0|\n",
      "+--------------+--------------------+----------------+--------------------+--------------------+--------------------+-----+--------------------+--------------------+----------+\n",
      "only showing top 5 rows\n",
      "\n"
     ]
    }
   ],
   "source": [
    "predictions = model.transform(test)\n",
    "predictions.show(5)"
   ]
  },
  {
   "cell_type": "code",
   "execution_count": 41,
   "metadata": {
    "collapsed": true
   },
   "outputs": [],
   "source": [
    "evaluator = MulticlassClassificationEvaluator(labelCol='label',\n",
    "                                              predictionCol='prediction')"
   ]
  },
  {
   "cell_type": "code",
   "execution_count": 42,
   "metadata": {
    "collapsed": false
   },
   "outputs": [
    {
     "name": "stdout",
     "output_type": "stream",
     "text": [
      "Test set accuracy = 0.7525571174312593\n"
     ]
    }
   ],
   "source": [
    "accuracy = evaluator.evaluate(predictions)\n",
    "print('Test set accuracy = ' + str(accuracy))"
   ]
  },
  {
   "cell_type": "code",
   "execution_count": null,
   "metadata": {
    "collapsed": true
   },
   "outputs": [],
   "source": []
  }
 ],
 "metadata": {
  "kernelspec": {
   "display_name": "Python 3",
   "language": "python",
   "name": "python3"
  },
  "language_info": {
   "codemirror_mode": {
    "name": "ipython",
    "version": 3
   },
   "file_extension": ".py",
   "mimetype": "text/x-python",
   "name": "python",
   "nbconvert_exporter": "python",
   "pygments_lexer": "ipython3",
   "version": "3.5.2"
  }
 },
 "nbformat": 4,
 "nbformat_minor": 2
}
