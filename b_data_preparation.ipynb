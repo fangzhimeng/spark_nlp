{
 "cells": [
  {
   "cell_type": "code",
   "execution_count": 45,
   "metadata": {
    "collapsed": false
   },
   "outputs": [],
   "source": [
    "import pyspark as ps\n",
    "from pyspark.sql.functions import udf\n",
    "from pyspark.sql.types import ArrayType, NumericType, StringType, IntegerType\n",
    "from pyspark.ml import Pipeline\n",
    "from pyspark.ml.pipeline import Transformer\n",
    "from spacy.en import English\n",
    "from src.SpacyTransformer import SpacyTransformer\n",
    "from src.LabelTransformer import LabelTransformer\n",
    "from pyspark.ml.feature import Tokenizer, CountVectorizer, IDF, Word2Vec, NGram\n",
    "from pyspark.ml.classification import NaiveBayes\n",
    "from pyspark.ml.evaluation import MulticlassClassificationEvaluator"
   ]
  },
  {
   "cell_type": "markdown",
   "metadata": {},
   "source": [
    "## Read data.json into Spark SQL context"
   ]
  },
  {
   "cell_type": "code",
   "execution_count": 46,
   "metadata": {
    "collapsed": true
   },
   "outputs": [],
   "source": [
    "data_file = 'data/data.json'\n",
    "df = spark.read.json(data_file)"
   ]
  },
  {
   "cell_type": "code",
   "execution_count": 47,
   "metadata": {
    "collapsed": false
   },
   "outputs": [
    {
     "name": "stdout",
     "output_type": "stream",
     "text": [
      "root\n",
      " |-- author: string (nullable = true)\n",
      " |-- excerpt: string (nullable = true)\n",
      " |-- title: string (nullable = true)\n",
      "\n",
      "None\n",
      "9050\n",
      "+----------+--------------------+-----------------+\n",
      "|    author|             excerpt|            title|\n",
      "+----------+--------------------+-----------------+\n",
      "|JaneAusten|Chapter 1 || It i...|PrideAndPrejudice|\n",
      "|JaneAusten|“What is his name...|PrideAndPrejudice|\n",
      "|JaneAusten|“In such cases, a...|PrideAndPrejudice|\n",
      "+----------+--------------------+-----------------+\n",
      "only showing top 3 rows\n",
      "\n"
     ]
    }
   ],
   "source": [
    "print(df.printSchema())\n",
    "print(df.count())\n",
    "df.show(3)"
   ]
  },
  {
   "cell_type": "code",
   "execution_count": 48,
   "metadata": {
    "collapsed": false
   },
   "outputs": [],
   "source": [
    "# Create debugging data\n",
    "df2 = df.sample(withReplacement=False, fraction=0.02)"
   ]
  },
  {
   "cell_type": "markdown",
   "metadata": {},
   "source": [
    "## Create pipeline and process data"
   ]
  },
  {
   "cell_type": "code",
   "execution_count": 21,
   "metadata": {
    "collapsed": false
   },
   "outputs": [],
   "source": [
    "# Set up transformers\n",
    "tokenizer = SpacyTransformer(inputCol='excerpt', outputCol='words')\n",
    "countvec = CountVectorizer(inputCol=tokenizer.getOutputCol(), outputCol='termfreq')\n",
    "idf = IDF(inputCol=countvec.getOutputCol(), outputCol='tfidf')\n",
    "w2v_2d = Word2Vec(vectorSize=2, minCount=2, inputCol=tokenizer.getOutputCol(), outputCol='w2v_2d')\n",
    "w2v_large = Word2Vec(vectorSize=250, minCount=2, inputCol=tokenizer.getOutputCol(), outputCol='w2v_large')"
   ]
  },
  {
   "cell_type": "code",
   "execution_count": 49,
   "metadata": {
    "collapsed": false
   },
   "outputs": [
    {
     "name": "stdout",
     "output_type": "stream",
     "text": [
      "+----------+--------------------+-----------------+--------------------+--------------------+--------------------+--------------------+--------------------+\n",
      "|    author|             excerpt|            title|               words|            termfreq|               tfidf|              w2v_2d|           w2v_large|\n",
      "+----------+--------------------+-----------------+--------------------+--------------------+--------------------+--------------------+--------------------+\n",
      "|JaneAusten|Chapter 1 || It i...|PrideAndPrejudice|[Chapter, 1, ||, ...|(50727,[0,1,2,3,4...|(50727,[0,1,2,3,4...|[-0.1537176836475...|[-0.0043571270131...|\n",
      "|JaneAusten|“What is his name...|PrideAndPrejudice|[“, What, is, his...|(50727,[0,1,2,3,4...|(50727,[0,1,2,3,4...|[-0.1880662840808...|[0.00572840133550...|\n",
      "|JaneAusten|“In such cases, a...|PrideAndPrejudice|[“, In, such, cas...|(50727,[0,1,2,3,4...|(50727,[0,1,2,3,4...|[-0.1603233745282...|[0.01362464603545...|\n",
      "+----------+--------------------+-----------------+--------------------+--------------------+--------------------+--------------------+--------------------+\n",
      "only showing top 3 rows\n",
      "\n",
      "CPU times: user 188 ms, sys: 44 ms, total: 232 ms\n",
      "Wall time: 41min 20s\n"
     ]
    }
   ],
   "source": [
    "%%time\n",
    "# Build pipeline and run pipeline\n",
    "pipeline = Pipeline(stages=[tokenizer, countvec, idf, w2v_2d, w2v_large])\n",
    "data = pipeline.fit(df).transform(df)\n",
    "data.show(3)"
   ]
  },
  {
   "cell_type": "code",
   "execution_count": 50,
   "metadata": {
    "collapsed": false
   },
   "outputs": [],
   "source": [
    "def make_labels(s):\n",
    "    labels = {'JaneAusten': 0,\n",
    "              'CharlesDickens': 1,\n",
    "              'JohnMuir': 2,\n",
    "              'MarkTwain': 3}\n",
    "    return labels[s]"
   ]
  },
  {
   "cell_type": "code",
   "execution_count": 51,
   "metadata": {
    "collapsed": false
   },
   "outputs": [
    {
     "name": "stdout",
     "output_type": "stream",
     "text": [
      "+----------+--------------------+-----------------+--------------------+--------------------+--------------------+--------------------+--------------------+-----+\n",
      "|    author|             excerpt|            title|               words|            termfreq|               tfidf|              w2v_2d|           w2v_large|label|\n",
      "+----------+--------------------+-----------------+--------------------+--------------------+--------------------+--------------------+--------------------+-----+\n",
      "|JaneAusten|Chapter 1 || It i...|PrideAndPrejudice|[Chapter, 1, ||, ...|(50727,[0,1,2,3,4...|(50727,[0,1,2,3,4...|[-0.1537176836475...|[-0.0043571270131...|    0|\n",
      "|JaneAusten|“What is his name...|PrideAndPrejudice|[“, What, is, his...|(50727,[0,1,2,3,4...|(50727,[0,1,2,3,4...|[-0.1880662840808...|[0.00572840133550...|    0|\n",
      "|JaneAusten|“In such cases, a...|PrideAndPrejudice|[“, In, such, cas...|(50727,[0,1,2,3,4...|(50727,[0,1,2,3,4...|[-0.1603233745282...|[0.01362464603545...|    0|\n",
      "+----------+--------------------+-----------------+--------------------+--------------------+--------------------+--------------------+--------------------+-----+\n",
      "only showing top 3 rows\n",
      "\n"
     ]
    }
   ],
   "source": [
    "udf_make_labels = udf(make_labels, IntegerType())\n",
    "data = data.withColumn('label', udf_make_labels('author'))\n",
    "data.show(3)"
   ]
  },
  {
   "cell_type": "code",
   "execution_count": 52,
   "metadata": {
    "collapsed": false
   },
   "outputs": [],
   "source": [
    "drop_list = ['author', 'title', 'excerpt', 'termfreq']\n",
    "data2 = data.select([column for column in data.columns if column not in drop_list])"
   ]
  },
  {
   "cell_type": "code",
   "execution_count": 55,
   "metadata": {
    "collapsed": false
   },
   "outputs": [
    {
     "name": "stdout",
     "output_type": "stream",
     "text": [
      "root\n",
      " |-- words: array (nullable = true)\n",
      " |    |-- element: string (containsNull = true)\n",
      " |-- tfidf: vector (nullable = true)\n",
      " |-- w2v_2d: vector (nullable = true)\n",
      " |-- w2v_large: vector (nullable = true)\n",
      " |-- label: integer (nullable = true)\n",
      "\n",
      "None\n",
      "9050\n"
     ]
    }
   ],
   "source": [
    "print(data2.printSchema())\n",
    "print(data2.count())"
   ]
  },
  {
   "cell_type": "code",
   "execution_count": 59,
   "metadata": {
    "collapsed": false
   },
   "outputs": [],
   "source": [
    "data2.write.mode('overwrite').save('data/processed_data.parquet', format='parquet')"
   ]
  },
  {
   "cell_type": "markdown",
   "metadata": {
    "collapsed": false
   },
   "source": [
    "## Make train/test split"
   ]
  },
  {
   "cell_type": "code",
   "execution_count": 60,
   "metadata": {
    "collapsed": true
   },
   "outputs": [],
   "source": [
    "splits = data2.randomSplit([0.75, 0.25])\n",
    "train = splits[0]\n",
    "test = splits[1]"
   ]
  },
  {
   "cell_type": "code",
   "execution_count": 61,
   "metadata": {
    "collapsed": false
   },
   "outputs": [],
   "source": [
    "nb = NaiveBayes(smoothing=1.0, \n",
    "                modelType='multinomial', \n",
    "                featuresCol='tfidf')\n",
    "model = nb.fit(train)"
   ]
  },
  {
   "cell_type": "code",
   "execution_count": 62,
   "metadata": {
    "collapsed": false
   },
   "outputs": [
    {
     "name": "stdout",
     "output_type": "stream",
     "text": [
      "+--------------------+--------------------+--------------------+--------------------+-----+--------------------+--------------------+----------+\n",
      "|               words|               tfidf|              w2v_2d|           w2v_large|label|       rawPrediction|         probability|prediction|\n",
      "+--------------------+--------------------+--------------------+--------------------+-----+--------------------+--------------------+----------+\n",
      "|[ , ||, Appendix,...|(50727,[0,1,3,4,5...|[-0.0391773918012...|[-0.0073203907892...|    2|[-13573.726286432...|   [0.0,0.0,1.0,0.0]|       2.0|\n",
      "|[ , ||, CHAPTER, ...|(50727,[0,1,2,3,4...|[-0.1349814746155...|[9.93143534166291...|    1|[-6880.3404623496...|[2.48589989306050...|       1.0|\n",
      "|[ , ||, CHAPTER, ...|(50727,[0,1,2,3,4...|[-0.1320070894340...|[0.02039432470268...|    1|[-4926.8195221126...|[2.98839071910880...|       1.0|\n",
      "+--------------------+--------------------+--------------------+--------------------+-----+--------------------+--------------------+----------+\n",
      "only showing top 3 rows\n",
      "\n"
     ]
    }
   ],
   "source": [
    "predictions = model.transform(test)\n",
    "predictions.show(3)"
   ]
  },
  {
   "cell_type": "code",
   "execution_count": 63,
   "metadata": {
    "collapsed": true
   },
   "outputs": [],
   "source": [
    "evaluator = MulticlassClassificationEvaluator(labelCol='label',\n",
    "                                              predictionCol='prediction')"
   ]
  },
  {
   "cell_type": "code",
   "execution_count": 64,
   "metadata": {
    "collapsed": false
   },
   "outputs": [
    {
     "name": "stdout",
     "output_type": "stream",
     "text": [
      "Test set accuracy = 0.9876035953221631\n"
     ]
    }
   ],
   "source": [
    "accuracy = evaluator.evaluate(predictions)\n",
    "print('Test set accuracy = ' + str(accuracy))"
   ]
  },
  {
   "cell_type": "code",
   "execution_count": null,
   "metadata": {
    "collapsed": true
   },
   "outputs": [],
   "source": []
  }
 ],
 "metadata": {
  "kernelspec": {
   "display_name": "Python 3",
   "language": "python",
   "name": "python3"
  },
  "language_info": {
   "codemirror_mode": {
    "name": "ipython",
    "version": 3
   },
   "file_extension": ".py",
   "mimetype": "text/x-python",
   "name": "python",
   "nbconvert_exporter": "python",
   "pygments_lexer": "ipython3",
   "version": "3.5.2"
  }
 },
 "nbformat": 4,
 "nbformat_minor": 2
}
