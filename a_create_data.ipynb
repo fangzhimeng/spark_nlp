{
 "cells": [
  {
   "cell_type": "markdown",
   "metadata": {},
   "source": [
    "# This Notebook Creates Data for the Spark NLP project:\n",
    "\n",
    "This notebook provides an alternate way to get the data required for this project.\n",
    "Running all cells in this notebook is equivalent to running \n",
    "\n",
    "``` $ python src/data_setup.py ```\n",
    "\n",
    "from the command line. The notebook also provides a preview of some of the data."
   ]
  },
  {
   "cell_type": "markdown",
   "metadata": {},
   "source": [
    "### Description of the Data:\n",
    "\n",
    "The data consists of sections from the texts contained in 'data/books'.\n",
    "\n",
    "Each book is divided into paragraphs and the paragraphs are then grouped into sections of no less than 200 words by default. This value may be changed below, or in the \"if \\__main\\__\" block of data_setup.py\n",
    "\n",
    "For my own information I put a double bar '||' between the natural paragraph breaks.\n",
    "\n",
    "* Feel free to add your own books. We recommend raiding Project Gutenberg.\n",
    "* Name text files you download in the form 'BookTitle_AuthorName.txt' \n",
    "* and add them to data/books. Then rerun this notebook.\n",
    "\n",
    "You will also need to open the text files in a text editor and remove the extraneous content at the beginning and end.\n"
   ]
  },
  {
   "cell_type": "code",
   "execution_count": 2,
   "metadata": {
    "collapsed": false
   },
   "outputs": [],
   "source": [
    "import json\n",
    "from src import data_setup as ds"
   ]
  },
  {
   "cell_type": "markdown",
   "metadata": {},
   "source": [
    "#### Feel free to adjust the minimum word count for longer or shorter excerpts"
   ]
  },
  {
   "cell_type": "code",
   "execution_count": 3,
   "metadata": {
    "collapsed": false
   },
   "outputs": [],
   "source": [
    "minimum_word_count = 200\n",
    "ds.process_all('data/books', min_wc=minimum_word_count)"
   ]
  },
  {
   "cell_type": "code",
   "execution_count": 4,
   "metadata": {
    "collapsed": false
   },
   "outputs": [
    {
     "data": {
      "text/plain": [
       "9050"
      ]
     },
     "execution_count": 4,
     "metadata": {},
     "output_type": "execute_result"
    }
   ],
   "source": [
    "with open('data/data.json', 'r') as jf:\n",
    "    data = json.load(jf)\n",
    "len(data)\n",
    "\n",
    "# Output should be 9050"
   ]
  },
  {
   "cell_type": "code",
   "execution_count": 5,
   "metadata": {
    "collapsed": false
   },
   "outputs": [
    {
     "name": "stdout",
     "output_type": "stream",
     "text": [
      "title : \t PrideAndPrejudice\n",
      "^^^^^^^^^\n",
      "excerpt : \t “No,” replied Jane, “I have not forgotten him; but I have nothing satisfactory to tell you. Mr. Bingley does not know the whole of his history, and is quite ignorant of the circumstances which have principally offended Mr. Darcy; but he will vouch for the good conduct, the probity, and honour of his friend, and is perfectly convinced that Mr. Wickham has deserved much less attention from Mr. Darcy than he has received; and I am sorry to say by his account as well as his sister’s, Mr. Wickham is by no means a respectable young man. I am afraid he has been very imprudent, and has deserved to lose Mr. Darcy’s regard.” || “Mr. Bingley does not know Mr. Wickham himself?” || “No; he never saw him till the other morning at Meryton.” || “This account then is what he has received from Mr. Darcy. I am satisfied. But what does he say of the living?” || “He does not exactly recollect the circumstances, though he has heard them from Mr. Darcy more than once, but he believes that it was left to him _conditionally_ only.” || “I have not a doubt of Mr. Bingley’s sincerity,” said Elizabeth warmly; “but you must excuse my not being convinced by assurances only. Mr. Bingley’s defense of his friend was a very able one, I dare say; but since he is unacquainted with several parts of the story, and has learnt the rest from that friend himself, I shall venture to still think of both gentlemen as I did before.”\n",
      "^^^^^^^^^\n",
      "author : \t JaneAusten\n",
      "^^^^^^^^^\n",
      "#########\n",
      "title : \t PrideAndPrejudice\n",
      "^^^^^^^^^\n",
      "excerpt : \t She then changed the discourse to one more gratifying to each, and on which there could be no difference of sentiment. Elizabeth listened with delight to the happy, though modest hopes which Jane entertained of Mr. Bingley’s regard, and said all in her power to heighten her confidence in it. On their being joined by Mr. Bingley himself, Elizabeth withdrew to Miss Lucas; to whose inquiry after the pleasantness of her last partner she had scarcely replied, before Mr. Collins came up to them, and told her with great exultation that he had just been so fortunate as to make a most important discovery. || “I have found out,” said he, “by a singular accident, that there is now in the room a near relation of my patroness. I happened to overhear the gentleman himself mentioning to the young lady who does the honours of the house the names of his cousin Miss de Bourgh, and of her mother Lady Catherine. How wonderfully these sort of things occur! Who would have thought of my meeting with, perhaps, a nephew of Lady Catherine de Bourgh in this assembly! I am most thankful that the discovery is made in time for me to pay my respects to him, which I am now going to do, and trust he will excuse my not having done it before. My total ignorance of the connection must plead my apology.”\n",
      "^^^^^^^^^\n",
      "author : \t JaneAusten\n",
      "^^^^^^^^^\n",
      "#########\n",
      "title : \t PrideAndPrejudice\n",
      "^^^^^^^^^\n",
      "excerpt : \t “You are not going to introduce yourself to Mr. Darcy!” || “Indeed I am. I shall entreat his pardon for not having done it earlier. I believe him to be Lady Catherine’s _nephew_. It will be in my power to assure him that her ladyship was quite well yesterday se’nnight.” || Elizabeth tried hard to dissuade him from such a scheme, assuring him that Mr. Darcy would consider his addressing him without introduction as an impertinent freedom, rather than a compliment to his aunt; that it was not in the least necessary there should be any notice on either side; and that if it were, it must belong to Mr. Darcy, the superior in consequence, to begin the acquaintance. Mr. Collins listened to her with the determined air of following his own inclination, and, when she ceased speaking, replied thus: || “My dear Miss Elizabeth, I have the highest opinion in the world in your excellent judgement in all matters within the scope of your understanding; but permit me to say, that there must be a wide difference between the established forms of ceremony amongst the laity, and those which regulate the clergy; for, give me leave to observe that I consider the clerical office as equal in point of dignity with the highest rank in the kingdom--provided that a proper humility of behaviour is at the same time maintained. You must therefore allow me to follow the dictates of my conscience on this occasion, which leads me to perform what I look on as a point of duty. Pardon me for neglecting to profit by your advice, which on every other subject shall be my constant guide, though in the case before us I consider myself more fitted by education and habitual study to decide on what is right than a young lady like yourself.” And with a low bow he left her to attack Mr. Darcy, whose reception of his advances she eagerly watched, and whose astonishment at being so addressed was very evident. Her cousin prefaced his speech with a solemn bow and though she could not hear a word of it, she felt as if hearing it all, and saw in the motion of his lips the words “apology,” “Hunsford,” and “Lady Catherine de Bourgh.” It vexed her to see him expose himself to such a man. Mr. Darcy was eyeing him with unrestrained wonder, and when at last Mr. Collins allowed him time to speak, replied with an air of distant civility. Mr. Collins, however, was not discouraged from speaking again, and Mr. Darcy’s contempt seemed abundantly increasing with the length of his second speech, and at the end of it he only made him a slight bow, and moved another way. Mr. Collins then returned to Elizabeth.\n",
      "^^^^^^^^^\n",
      "author : \t JaneAusten\n",
      "^^^^^^^^^\n",
      "#########\n",
      "title : \t PrideAndPrejudice\n",
      "^^^^^^^^^\n",
      "excerpt : \t “I have no reason, I assure you,” said he, “to be dissatisfied with my reception. Mr. Darcy seemed much pleased with the attention. He answered me with the utmost civility, and even paid me the compliment of saying that he was so well convinced of Lady Catherine’s discernment as to be certain she could never bestow a favour unworthily. It was really a very handsome thought. Upon the whole, I am much pleased with him.” || As Elizabeth had no longer any interest of her own to pursue, she turned her attention almost entirely on her sister and Mr. Bingley; and the train of agreeable reflections which her observations gave birth to, made her perhaps almost as happy as Jane. She saw her in idea settled in that very house, in all the felicity which a marriage of true affection could bestow; and she felt capable, under such circumstances, of endeavouring even to like Bingley’s two sisters. Her mother’s thoughts she plainly saw were bent the same way, and she determined not to venture near her, lest she might hear too much. When they sat down to supper, therefore, she considered it a most unlucky perverseness which placed them within one of each other; and deeply was she vexed to find that her mother was talking to that one person (Lady Lucas) freely, openly, and of nothing else but her expectation that Jane would soon be married to Mr. Bingley. It was an animating subject, and Mrs. Bennet seemed incapable of fatigue while enumerating the advantages of the match. His being such a charming young man, and so rich, and living but three miles from them, were the first points of self-gratulation; and then it was such a comfort to think how fond the two sisters were of Jane, and to be certain that they must desire the connection as much as she could do. It was, moreover, such a promising thing for her younger daughters, as Jane’s marrying so greatly must throw them in the way of other rich men; and lastly, it was so pleasant at her time of life to be able to consign her single daughters to the care of their sister, that she might not be obliged to go into company more than she liked. It was necessary to make this circumstance a matter of pleasure, because on such occasions it is the etiquette; but no one was less likely than Mrs. Bennet to find comfort in staying home at any period of her life. She concluded with many good wishes that Lady Lucas might soon be equally fortunate, though evidently and triumphantly believing there was no chance of it.\n",
      "^^^^^^^^^\n",
      "author : \t JaneAusten\n",
      "^^^^^^^^^\n",
      "#########\n"
     ]
    }
   ],
   "source": [
    "n = 120\n",
    "\n",
    "for d in data[n:n+4]:\n",
    "    for k,v in d.items():\n",
    "        print(k, ': \\t', v)\n",
    "        print('^^^^^^^^^')\n",
    "    print('#########')\n",
    "\n",
    "# Should show two excerpts from 'A Christmas Carol' \n",
    "# and two excerpts from 'A Connecticut Yankee In King Arthur's Court"
   ]
  },
  {
   "cell_type": "code",
   "execution_count": null,
   "metadata": {
    "collapsed": true
   },
   "outputs": [],
   "source": []
  }
 ],
 "metadata": {
  "anaconda-cloud": {},
  "kernelspec": {
   "display_name": "Python 3",
   "language": "python",
   "name": "python3"
  },
  "language_info": {
   "codemirror_mode": {
    "name": "ipython",
    "version": 3
   },
   "file_extension": ".py",
   "mimetype": "text/x-python",
   "name": "python",
   "nbconvert_exporter": "python",
   "pygments_lexer": "ipython3",
   "version": "3.5.2"
  }
 },
 "nbformat": 4,
 "nbformat_minor": 0
}
